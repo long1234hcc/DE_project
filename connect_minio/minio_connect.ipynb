{
 "cells": [
  {
   "cell_type": "code",
   "execution_count": null,
   "metadata": {},
   "outputs": [],
   "source": []
  },
  {
   "cell_type": "code",
   "execution_count": 1,
   "metadata": {},
   "outputs": [
    {
     "name": "stdout",
     "output_type": "stream",
     "text": [
      "Danh sách buckets:\n",
      "- hasaki (created: 2025-01-14 16:44:32.701000+00:00)\n"
     ]
    }
   ],
   "source": [
    "from minio import Minio\n",
    "from minio.error import S3Error\n",
    "\n",
    "# Cấu hình thông tin kết nối MinIO\n",
    "minio_client = Minio(\n",
    "    \"localhost:9000\",  # Địa chỉ server MinIO (localhost vì chạy trên máy bạn)\n",
    "    access_key=\"admin\",  # Username (đặt khi chạy container)\n",
    "    secret_key=\"admin123\",  # Password (đặt khi chạy container)\n",
    "    secure=False  # MinIO không sử dụng HTTPS trong môi trường cục bộ\n",
    ")\n",
    "\n",
    "try:\n",
    "    buckets = minio_client.list_buckets()\n",
    "    print(\"Danh sách buckets:\")\n",
    "    for bucket in buckets:\n",
    "        print(f\"- {bucket.name} (created: {bucket.creation_date})\")\n",
    "except S3Error as e:\n",
    "    print(\"Lỗi khi kết nối MinIO:\", e)\n"
   ]
  },
  {
   "cell_type": "code",
   "execution_count": 2,
   "metadata": {},
   "outputs": [],
   "source": [
    "bucket_name = \"hasaki\"  # Tên bucket mới\n",
    "\n",
    "# Kiểm tra và tạo bucket nếu chưa tồn tại\n",
    "if not minio_client.bucket_exists(bucket_name):\n",
    "    minio_client.make_bucket(bucket_name)\n",
    "    print(f\"Bucket '{bucket_name}' đã được tạo.\")\n",
    "else:\n",
    "    print(f\"Bucket '{bucket_name}' đã tồn tại.\")\n"
   ]
  },
  {
   "cell_type": "code",
   "execution_count": 6,
   "metadata": {},
   "outputs": [
    {
     "name": "stdout",
     "output_type": "stream",
     "text": [
      "Danh sách buckets:\n",
      "- hasaki (created: 2025-01-14 16:44:32.701000+00:00)\n"
     ]
    }
   ],
   "source": [
    "buckets = minio_client.list_buckets()\n",
    "print(\"Danh sách buckets:\")\n",
    "for bucket in buckets:\n",
    "    print(f\"- {bucket.name} (created: {bucket.creation_date})\")\n"
   ]
  },
  {
   "cell_type": "code",
   "execution_count": 9,
   "metadata": {},
   "outputs": [
    {
     "name": "stdout",
     "output_type": "stream",
     "text": [
      "File 'C:\\Users\\ADMIN\\Downloads\\hasaki_products.csv' đã được upload vào bucket 'hasaki' với tên 'hasaki_products.csv'.\n"
     ]
    }
   ],
   "source": [
    "file_path = r\"C:\\Users\\ADMIN\\Downloads\\hasaki_products.csv\"  # Thay bằng đường dẫn file trên máy bạn\n",
    "object_name = \"hasaki_products.csv\"  # Tên file khi lưu trong MinIO\n",
    "\n",
    "minio_client.fput_object(bucket_name, object_name, file_path)\n",
    "print(f\"File '{file_path}' đã được upload vào bucket '{bucket_name}' với tên '{object_name}'.\")\n"
   ]
  },
  {
   "cell_type": "code",
   "execution_count": 11,
   "metadata": {},
   "outputs": [
    {
     "name": "stdout",
     "output_type": "stream",
     "text": [
      "Các object trong bucket 'hasaki':\n",
      "- hasaki_products.csv (size: 63121 bytes)\n"
     ]
    }
   ],
   "source": [
    "objects = minio_client.list_objects(bucket_name)\n",
    "print(f\"Các object trong bucket '{bucket_name}':\")\n",
    "for obj in objects:\n",
    "    print(f\"- {obj.object_name} (size: {obj.size} bytes)\")\n"
   ]
  },
  {
   "cell_type": "code",
   "execution_count": null,
   "metadata": {},
   "outputs": [],
   "source": []
  },
  {
   "cell_type": "code",
   "execution_count": null,
   "metadata": {},
   "outputs": [],
   "source": []
  }
 ],
 "metadata": {
  "kernelspec": {
   "display_name": ".venv",
   "language": "python",
   "name": "python3"
  },
  "language_info": {
   "codemirror_mode": {
    "name": "ipython",
    "version": 3
   },
   "file_extension": ".py",
   "mimetype": "text/x-python",
   "name": "python",
   "nbconvert_exporter": "python",
   "pygments_lexer": "ipython3",
   "version": "3.11.5"
  }
 },
 "nbformat": 4,
 "nbformat_minor": 2
}
